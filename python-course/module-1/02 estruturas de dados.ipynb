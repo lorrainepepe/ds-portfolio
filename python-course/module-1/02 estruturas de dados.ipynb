{
 "cells": [
  {
   "attachments": {},
   "cell_type": "markdown",
   "metadata": {},
   "source": [
    "# Estruturas de dados\n",
    "Nesta seção veremos estruturas padrões do python que nos auxiliam a armazenas, organizar e manipular os dados de formas mais otimizadas."
   ]
  },
  {
   "attachments": {},
   "cell_type": "markdown",
   "metadata": {},
   "source": [
    "## Listas\n",
    "* Listas em python (tipo `list`) são vetores (arrays) mutáveis, ou seja, que permitem adição ou remoção de elementos dentro dela.\n",
    "* Listas podem ter tipos diferentes de elementos em uma mesma lista e crescer/diminuir dinamicamente.\n",
    "* Funções da lista alteram a própria lista, sem ter que atribuir a operação à variável. Exemplo: não é necessário fazer lista = lista.reverse(), apenas lista.reverse() já inverte a lista.\n",
    "* É uma estrutura indexada, isto é, você pode acessar os elementos pelo índice (posição do item na lista), ou descobrir em qual posição um elemento está.\n",
    "* **importante**: Em Python os índices começam em 0!\n",
    "\n",
    "Obs: não é uma boa prática ter tipos heterogêneos dentro de uma lista. "
   ]
  },
  {
   "cell_type": "code",
   "execution_count": 13,
   "metadata": {},
   "outputs": [
    {
     "name": "stdout",
     "output_type": "stream",
     "text": [
      "<class 'list'>\n",
      "tamanho da lista:  0\n",
      "[2, 5, 7]\n",
      "[2, 7]\n",
      "lista:  [1, 5, 'ana', 2.7, '293.23', 'a', 'ana']\n",
      "ana aparece primeiro em:  2\n",
      "lista reversa:  ['ana', 'a', '293.23', 2.7, 'ana', 5, 1]\n"
     ]
    }
   ],
   "source": [
    "# iniciar lista vazia\n",
    "lista = []\n",
    "print(type(lista))\n",
    "print('tamanho da lista: ', len(lista))\n",
    "\n",
    "#adição de elementos\n",
    "lista.append(2)\n",
    "lista.append(5)\n",
    "lista.append(7)\n",
    "print(lista)\n",
    "\n",
    "#remoção\n",
    "lista.remove(5)\n",
    "#tentar remover um elemento que não existe, gera erro\n",
    "#lista.remove(4)\n",
    "\n",
    "print(lista)\n",
    "\n",
    "lista = [1, 5, 'ana', 2.7, '293.23', 'a', 'ana']\n",
    "print('lista: ', lista)\n",
    "\n",
    "#busca posição de um elemento em sua primeira ocorrência na lista.\n",
    "print('ana aparece primeiro em: ', lista.index('ana'))\n",
    "\n",
    "#inverter ordem dos elementos, sem ter que atribuir novamente à variável.\n",
    "lista.reverse()\n",
    "print('lista reversa: ', lista)\n",
    "\n"
   ]
  },
  {
   "attachments": {},
   "cell_type": "markdown",
   "metadata": {},
   "source": [
    "Podemos acessar os elementos de uma lista, por meio do index "
   ]
  },
  {
   "cell_type": "code",
   "execution_count": 3,
   "metadata": {},
   "outputs": [
    {
     "name": "stdout",
     "output_type": "stream",
     "text": [
      "ana\n",
      "pedro\n",
      "pedro\n"
     ]
    },
    {
     "ename": "IndexError",
     "evalue": "list index out of range",
     "output_type": "error",
     "traceback": [
      "\u001b[0;31m---------------------------------------------------------------------------\u001b[0m",
      "\u001b[0;31mIndexError\u001b[0m                                Traceback (most recent call last)",
      "Cell \u001b[0;32mIn[3], line 5\u001b[0m\n\u001b[1;32m      3\u001b[0m \u001b[39mprint\u001b[39m(nomes[\u001b[39mlen\u001b[39m(nomes)\u001b[39m-\u001b[39m\u001b[39m1\u001b[39m])\n\u001b[1;32m      4\u001b[0m \u001b[39mprint\u001b[39m(nomes[\u001b[39m-\u001b[39m\u001b[39m1\u001b[39m]) \u001b[39m# do fim para o início\u001b[39;00m\n\u001b[0;32m----> 5\u001b[0m \u001b[39mprint\u001b[39m(nomes[\u001b[39mlen\u001b[39;49m(nomes)]) \u001b[39m# erro \u001b[39;00m\n",
      "\u001b[0;31mIndexError\u001b[0m: list index out of range"
     ]
    }
   ],
   "source": [
    "nomes = ['ana','maria','lucas', 'matheus', 'thiago', 'pedro']\n",
    "print(nomes[0])\n",
    "print(nomes[len(nomes)-1])\n",
    "print(nomes[-1]) # do fim para o início\n",
    "print(nomes[len(nomes)]) # erro só podemos acessar de 0 a len-1\n",
    "\n"
   ]
  }
 ],
 "metadata": {
  "kernelspec": {
   "display_name": "Python 3",
   "language": "python",
   "name": "python3"
  },
  "language_info": {
   "codemirror_mode": {
    "name": "ipython",
    "version": 3
   },
   "file_extension": ".py",
   "mimetype": "text/x-python",
   "name": "python",
   "nbconvert_exporter": "python",
   "pygments_lexer": "ipython3",
   "version": "3.10.6"
  },
  "orig_nbformat": 4,
  "vscode": {
   "interpreter": {
    "hash": "916dbcbb3f70747c44a77c7bcd40155683ae19c65e1c03b4aa3499c5328201f1"
   }
  }
 },
 "nbformat": 4,
 "nbformat_minor": 2
}
