{
 "cells": [
  {
   "attachments": {},
   "cell_type": "markdown",
   "metadata": {},
   "source": [
    "# Comentários\n",
    "\n",
    "Podemos fazer comentários de uma única linha ou de um bloco todo.\n",
    "\n",
    "Normalmente, o comentário de uma linha é colocado acima do código para melhor legibilidade."
   ]
  },
  {
   "cell_type": "code",
   "execution_count": null,
   "metadata": {},
   "outputs": [],
   "source": [
    "# comentário inline\n",
    "\n",
    "\n",
    "# comentário 1\n",
    "# comentário 2\n",
    "# comentário 3\n",
    "\n",
    "\"\"\"\n",
    "multiplos \n",
    "comentarios\n",
    "dentro\n",
    "desde bloco\n",
    "\"\"\""
   ]
  },
  {
   "attachments": {},
   "cell_type": "markdown",
   "metadata": {},
   "source": [
    "# Tipos básicos\n",
    "\n",
    "* Booleanos: True ou False - verdadeiro ou falso. Obrigatório ser em letra maiúscula.\n",
    "* Interios: Número inteiros\n",
    "* Float: Números decimais. É utilizado o `.` para separar a parte inteira da decimal.\n",
    "* String: Textos. Podem ser entre aspas simples ou duplas.\n",
    "\n",
    "Obs.: `None` representa a ausência de valor. É similar ao nulo de algumas linguagens.\n",
    "* Existem outros tipos, como o complex para número complexo."
   ]
  },
  {
   "cell_type": "code",
   "execution_count": 9,
   "metadata": {},
   "outputs": [
    {
     "name": "stdout",
     "output_type": "stream",
     "text": [
      "<class 'bool'> \n",
      " <class 'str'> \n",
      " <class 'str'> \n",
      " <class 'int'> \n",
      " <class 'str'> \n",
      " <class 'float'> \n",
      " <class 'str'>\n"
     ]
    }
   ],
   "source": [
    "print(\n",
    "type(True),\"\\n\",\n",
    "type(\"a\"),\"\\n\",\n",
    "type('a'),\"\\n\",\n",
    "type(1),\"\\n\",\n",
    "type(\"1\"),\"\\n\",\n",
    "type(1.3),\"\\n\",\n",
    "type(\"true\")\n",
    ")"
   ]
  },
  {
   "cell_type": "code",
   "execution_count": 3,
   "metadata": {},
   "outputs": [
    {
     "name": "stdout",
     "output_type": "stream",
     "text": [
      "Olá! Olá! Olá! \n",
      "9\n"
     ]
    }
   ],
   "source": [
    "print(\"Olá! \" * 3)\n",
    "print(3*3)"
   ]
  },
  {
   "attachments": {},
   "cell_type": "markdown",
   "metadata": {},
   "source": [
    "## Números\n",
    "\n",
    "* Decimal não está disponivel no builtins\n"
   ]
  },
  {
   "cell_type": "code",
   "execution_count": 133,
   "metadata": {},
   "outputs": [
    {
     "data": {
      "text/plain": [
       "['__abs__',\n",
       " '__add__',\n",
       " '__and__',\n",
       " '__bool__',\n",
       " '__ceil__',\n",
       " '__class__',\n",
       " '__delattr__',\n",
       " '__dir__',\n",
       " '__divmod__',\n",
       " '__doc__',\n",
       " '__eq__',\n",
       " '__float__',\n",
       " '__floor__',\n",
       " '__floordiv__',\n",
       " '__format__',\n",
       " '__ge__',\n",
       " '__getattribute__',\n",
       " '__getnewargs__',\n",
       " '__gt__',\n",
       " '__hash__',\n",
       " '__index__',\n",
       " '__init__',\n",
       " '__init_subclass__',\n",
       " '__int__',\n",
       " '__invert__',\n",
       " '__le__',\n",
       " '__lshift__',\n",
       " '__lt__',\n",
       " '__mod__',\n",
       " '__mul__',\n",
       " '__ne__',\n",
       " '__neg__',\n",
       " '__new__',\n",
       " '__or__',\n",
       " '__pos__',\n",
       " '__pow__',\n",
       " '__radd__',\n",
       " '__rand__',\n",
       " '__rdivmod__',\n",
       " '__reduce__',\n",
       " '__reduce_ex__',\n",
       " '__repr__',\n",
       " '__rfloordiv__',\n",
       " '__rlshift__',\n",
       " '__rmod__',\n",
       " '__rmul__',\n",
       " '__ror__',\n",
       " '__round__',\n",
       " '__rpow__',\n",
       " '__rrshift__',\n",
       " '__rshift__',\n",
       " '__rsub__',\n",
       " '__rtruediv__',\n",
       " '__rxor__',\n",
       " '__setattr__',\n",
       " '__sizeof__',\n",
       " '__str__',\n",
       " '__sub__',\n",
       " '__subclasshook__',\n",
       " '__truediv__',\n",
       " '__trunc__',\n",
       " '__xor__',\n",
       " 'as_integer_ratio',\n",
       " 'bit_count',\n",
       " 'bit_length',\n",
       " 'conjugate',\n",
       " 'denominator',\n",
       " 'from_bytes',\n",
       " 'imag',\n",
       " 'numerator',\n",
       " 'real',\n",
       " 'to_bytes']"
      ]
     },
     "execution_count": 133,
     "metadata": {},
     "output_type": "execute_result"
    }
   ],
   "source": [
    "# mostra o que tem disponível em cada tipo\n",
    "dir(int)\n",
    "dir(str)\n",
    "dir(float)"
   ]
  },
  {
   "cell_type": "code",
   "execution_count": 7,
   "metadata": {},
   "outputs": [
    {
     "name": "stdout",
     "output_type": "stream",
     "text": [
      "False\n",
      "True\n",
      "5\n",
      "2\n",
      "2\n"
     ]
    }
   ],
   "source": [
    "a = 4.3\n",
    "print(a.is_integer())\n",
    "print(5.0.is_integer())\n",
    "\n",
    "print(int.__add__(2,3))\n",
    "\n",
    "print((-2).__abs__())\n",
    "\n",
    "print(abs(-2))"
   ]
  },
  {
   "attachments": {},
   "cell_type": "markdown",
   "metadata": {},
   "source": [
    "## Tratamento de decimais\n",
    "\n",
    "Por padrão, Python opera decimais de modo a ganhar performance e perder precisão. </p>\n",
    "Isso pode gerar algumas estranhezas tal como abaixo.\n",
    "</p>\n",
    "Para resolver, pode-se importar o pacote Decimal."
   ]
  },
  {
   "cell_type": "code",
   "execution_count": 9,
   "metadata": {},
   "outputs": [
    {
     "data": {
      "text/plain": [
       "3.3000000000000003"
      ]
     },
     "execution_count": 9,
     "metadata": {},
     "output_type": "execute_result"
    }
   ],
   "source": [
    "1.1 + 2.2"
   ]
  },
  {
   "cell_type": "code",
   "execution_count": 12,
   "metadata": {},
   "outputs": [
    {
     "name": "stdout",
     "output_type": "stream",
     "text": [
      "0.1428571428571428571428571429\n",
      "0.1429\n"
     ]
    }
   ],
   "source": [
    "from decimal import Decimal, getcontext # muda o nível de precisão sobre as operações\n",
    "1.1 + 2.2\n",
    "\n",
    "print(Decimal(1)/Decimal(7))\n",
    "\n",
    "# muda o nível de precisão, qtd de casas decimais\n",
    "getcontext().prec = 4 \n",
    "print(Decimal(1)/Decimal(7))\n",
    "\n"
   ]
  },
  {
   "cell_type": "code",
   "execution_count": null,
   "metadata": {},
   "outputs": [],
   "source": [
    "# mostra as funções disponíveis em Decimal\n",
    "dir(Decimal)"
   ]
  },
  {
   "cell_type": "code",
   "execution_count": 15,
   "metadata": {},
   "outputs": [
    {
     "name": "stdout",
     "output_type": "stream",
     "text": [
      "3.3000000000000003\n"
     ]
    },
    {
     "data": {
      "text/plain": [
       "Decimal('3.30000000000000026645352591004')"
      ]
     },
     "execution_count": 15,
     "metadata": {},
     "output_type": "execute_result"
    }
   ],
   "source": [
    "#comparando\n",
    "print(1.1 + 2.2)\n",
    "\n",
    "getcontext().prec = 30\n",
    "Decimal(1.1) + Decimal(2.2)"
   ]
  },
  {
   "attachments": {},
   "cell_type": "markdown",
   "metadata": {},
   "source": [
    "## Strings\n",
    "* São vetores de caracteres, logo podemos acessar as posições dos vetores por meio dos índices: nome[0].\n",
    "* Entenda um vetor como uma sequência de valores na memória. Por exemplo: 10 valores de um vetor ocupam a posição 0 a 9 na memória.\n",
    "* Vetores começam na posição 0 em Python.\n",
    "* Strings em Python tem suas posições **imutáveis**, logo, não é possível alterar algum de seus caracteres diretamente. Exemplo: nome[0] = 'a' não é aceito.\n",
    "* Se quiser que o texto contenha \"\" ou '' você pode adicionar um caracter de escape no lugar: `\\'` ou `\\\"` ou inicializar a variável com a aspa que não será usada no meio do texto.\n",
    "* use \"\"\" \"\"\" ou ''' '''para texto com múltiplas linhas ou coloque uma \\ na quebra da linha na escrita do código e manter na mesma linha quando printar\n",
    "* \\n para pular linha e \\t para tabulação"
   ]
  },
  {
   "cell_type": "code",
   "execution_count": 30,
   "metadata": {},
   "outputs": [
    {
     "name": "stdout",
     "output_type": "stream",
     "text": [
      "A\n",
      "Pedro\n",
      "marca d'agua\n",
      "marca d'agua\n",
      "quero \"\" no meio do texto\n",
      "quero \"\" no meio do texto\n",
      "\n",
      "\ttexto\n",
      "com\n",
      "multiplas\n",
      "linhas\n",
      "texto com multiplas linhas\n",
      "usar \\n para \n",
      " para pular linha\n"
     ]
    }
   ],
   "source": [
    "#dir(str)\n",
    "\n",
    "nome = 'Ana Maria'\n",
    "print(nome[0])\n",
    "\n",
    "#erro\n",
    "#nome[6] = 'B'\n",
    "#print(nome)\n",
    "\n",
    "nome = \"Pedro\"\n",
    "print(nome)\n",
    "\n",
    "# erro\n",
    "#'marca d'água\n",
    "\n",
    "print('marca d\\'agua')\n",
    "print(\"marca d'agua\")\n",
    "print('quero \"\" no meio do texto')\n",
    "print(\"quero \\\"\\\" no meio do texto\")\n",
    "\n",
    "doc = \"\"\"\\n\\ttexto\n",
    "com\n",
    "multiplas\n",
    "linhas\"\"\"\n",
    "\n",
    "print(doc)\n",
    "\n",
    "doc = \"\"\"texto \\\n",
    "com \\\n",
    "multiplas \\\n",
    "linhas\"\"\"\n",
    "\n",
    "print(doc)\n",
    "\n",
    "print(\"usar \\\\n para \\n para pular linha\")"
   ]
  },
  {
   "attachments": {},
   "cell_type": "markdown",
   "metadata": {},
   "source": [
    "# Operadores\n",
    "Operadores aritméticos, relacionais, lógicos e de atribuição"
   ]
  },
  {
   "attachments": {},
   "cell_type": "markdown",
   "metadata": {},
   "source": [
    "## Operadores aritméticos\n",
    "São operadores binários, com 2 operandos necessários para realizar a operação.</p>\n",
    "Os exemplos abaixo são operações infix, com o operador no meio dos operandos.</p>\n",
    "Python não tem alguns dos operadores prefixados e pós-fixados de outras linguagens, como y++ e ++y."
   ]
  },
  {
   "cell_type": "code",
   "execution_count": 10,
   "metadata": {},
   "outputs": [
    {
     "name": "stdout",
     "output_type": "stream",
     "text": [
      "5\n",
      "-1\n",
      "-1.2999999999999998\n",
      "3.1333333333333333\n",
      "3.0\n",
      "15.0\n",
      "8\n",
      "1\n"
     ]
    }
   ],
   "source": [
    "print(2 + 3)\n",
    "print(2 - 3)\n",
    "print(3.2 - 4.5)\n",
    "\n",
    "#divisão\n",
    "print(9.4 / 3)\n",
    "\n",
    "#divisão com resultado inteiro\n",
    "print(9.4 // 3) \n",
    "\n",
    "#multiplicação\n",
    "print(3 * 5.0) \n",
    "\n",
    "#potência\n",
    "print(2 ** 3) \n",
    "\n",
    "#resto da divisão (módulo)\n",
    "print(10 % 3)"
   ]
  },
  {
   "attachments": {},
   "cell_type": "markdown",
   "metadata": {},
   "source": [
    "## Operadores relacionais\n",
    "Os resultados são verdadeiros ou falso.</p>\n",
    "Não existe === (comparação estritamente igual), nem && e || como outras linguagens.</p>Em Python é simplesmene `==`(igual a), `and`, `or` e `!=` (diferente de).\n",
    "Para operações bit a bit temos: `&`,`|` e `^` "
   ]
  },
  {
   "cell_type": "code",
   "execution_count": 26,
   "metadata": {},
   "outputs": [
    {
     "name": "stdout",
     "output_type": "stream",
     "text": [
      "3 > 4 ?  False\n",
      "4 >= 4 ? True\n",
      "4 == 4 ? True\n",
      "True == False?  False\n",
      "True > False?  True\n",
      "True == None? False\n",
      "True != None? True\n",
      "False == None? False\n",
      "False != None True\n",
      "\"2\" == 2 False\n"
     ]
    }
   ],
   "source": [
    "print(\"3 > 4 ? \", 3 > 4)\n",
    "print(\"4 >= 4 ?\", 4 >= 4)\n",
    "print(\"4 == 4 ?\", 4 == 4)\n",
    "\n",
    "print(\"True == False? \", True == False)\n",
    "print(\"True > False? \", True > False)\n",
    "\n",
    "print(\"True == None?\", True == None)\n",
    "print(\"True != None?\", True != None)\n",
    "\n",
    "print(\"False == None?\", False == None)\n",
    "print(\"False != None\", False != None)\n",
    "\n",
    "print('\"2\" == 2', \"2\" == 2)"
   ]
  },
  {
   "attachments": {},
   "cell_type": "markdown",
   "metadata": {},
   "source": [
    "## Operadores de atribuição\n",
    "* `=` que é apenas atribuir um valor\n",
    "* `+=` soma e depois atribui\n",
    "* `-=` subtrai e depois atribui\n",
    "* `/=` divide e depois atribui\n",
    "* `**=` divide truncando em valor inteiro e depois atribui\n",
    "* `*=` subtrai e depois atribui\n",
    "* `**=` realiza a exponenciação e depois atribu\n",
    "<p> \n",
    "Note que não existe a versão \"atribui e depois opera\", exemplo +="
   ]
  },
  {
   "cell_type": "code",
   "execution_count": 45,
   "metadata": {},
   "outputs": [
    {
     "name": "stdout",
     "output_type": "stream",
     "text": [
      "a: 3\n",
      "b: 5\n",
      "a+b: 8\n",
      "\n",
      "a:  3\n",
      "a += 2:  5\n",
      "a -= 4: 1\n",
      "a /= 10: 0.1\n",
      "a *= 100: 10.0\n",
      "\n",
      "10/1.5:  6.666666666666667\n",
      "a //= 1.5: 6.0\n",
      "\n",
      "a **= 2: 36.0\n"
     ]
    }
   ],
   "source": [
    "#atribuição\n",
    "a = 3\n",
    "print(\"a:\", a)\n",
    "\n",
    "b = a + 2\n",
    "print(\"b:\", b)\n",
    "print(\"a+b:\", a+b)\n",
    "\n",
    "print(\"\\na: \", a)\n",
    "a += 2\n",
    "print(\"a += 2: \", a)\n",
    "\n",
    "a -= 4\n",
    "print(\"a -= 4:\", a)\n",
    "\n",
    "a /= 10\n",
    "print(\"a /= 10:\", a)\n",
    "\n",
    "a *= 100\n",
    "print(\"a *= 100:\", a)\n",
    "\n",
    "a //= 1.5\n",
    "print(\"\\n10/1.5: \", 10/1.5)\n",
    "print(\"a //= 1.5:\", a)\n",
    "\n",
    "a **= 2\n",
    "print(\"\\na **= 2:\", a)"
   ]
  },
  {
   "attachments": {},
   "cell_type": "markdown",
   "metadata": {},
   "source": [
    "## Operadores lógicos\n",
    "* Note que True e False possuem as iniciais maiúsculas em python\n",
    "* 0 em python é False e qualquer outro valor é True\n",
    "* Operações com none resultam em erro."
   ]
  },
  {
   "cell_type": "code",
   "execution_count": 79,
   "metadata": {},
   "outputs": [
    {
     "name": "stdout",
     "output_type": "stream",
     "text": [
      "Operador and \n",
      "v e v:  True\n",
      "v e f:  False\n",
      "f e v:  False\n",
      "f e f:  False\n",
      "\n",
      "Operador or \n",
      "v ou v:  True\n",
      "v ou f:  True\n",
      "f ou v: True\n",
      "f ou f: False\n",
      "\n",
      "Operador xor (ou exclusivo, interpretado como  'diferente de' \n",
      "v diferente de v:  False\n",
      "v diferente de f:  True\n",
      "f diferente de v:  True\n",
      "f diferente de f:  False\n",
      "\n",
      "Operador not (negação) \n",
      "não v:  False\n",
      "não f:  True\n",
      "not 0:  True\n",
      "not 1:  False\n",
      "not -2:  False\n"
     ]
    }
   ],
   "source": [
    "print(\"Operador and \")\n",
    "print(\"v e v: \", True and True)\n",
    "print(\"v e f: \", True and False)\n",
    "print(\"f e v: \", False and True)\n",
    "print(\"f e f: \", False and False)\n",
    "\n",
    "print(\"\\nOperador or \")\n",
    "print(\"v ou v: \", True or True)\n",
    "print(\"v ou f: \", True or False)\n",
    "print(\"f ou v:\", False or True)\n",
    "print(\"f ou f:\", False or False)\n",
    "\n",
    "print(\"\\nOperador xor (ou exclusivo, interpretado como  'diferente de' \")\n",
    "print(\"v diferente de v: \", True != True)\n",
    "print(\"v diferente de f: \", True != False)\n",
    "print(\"f diferente de v: \", False != True)\n",
    "print(\"f diferente de f: \", False != False)\n",
    "\n",
    "print(\"\\nOperador not (negação) \")\n",
    "print(\"não v: \", not True)\n",
    "print(\"não f: \", not False)\n",
    "print(\"not 0: \", not 0)\n",
    "print(\"not 1: \", not 1)\n",
    "print(\"not -2: \", not -2)"
   ]
  },
  {
   "cell_type": "code",
   "execution_count": 80,
   "metadata": {},
   "outputs": [
    {
     "name": "stdout",
     "output_type": "stream",
     "text": [
      "\n",
      "Expressões com valores: \n",
      "0 and 1:  0\n",
      "0 and 50:  0\n",
      "0 and -10:  0\n",
      "0 != 50:  True\n",
      "1 and 50:  50\n",
      "1 or 50:  1\n",
      "1 != 50:  True\n",
      "\n",
      "1 and -10:  -10\n",
      "1 or -10:  -10\n",
      "\n",
      "not 0:  True\n",
      "not 50:  False\n",
      "not -10:  False\n",
      "\n",
      "0 or 1:  1\n",
      "0 or 50:  50\n"
     ]
    },
    {
     "ename": "NameError",
     "evalue": "name 'none' is not defined",
     "output_type": "error",
     "traceback": [
      "\u001b[0;31m---------------------------------------------------------------------------\u001b[0m",
      "\u001b[0;31mNameError\u001b[0m                                 Traceback (most recent call last)",
      "Cell \u001b[0;32mIn[80], line 22\u001b[0m\n\u001b[1;32m     19\u001b[0m \u001b[39mprint\u001b[39m(\u001b[39m\"\u001b[39m\u001b[39m0 or 50: \u001b[39m\u001b[39m\"\u001b[39m, \u001b[39m0\u001b[39m \u001b[39mor\u001b[39;00m \u001b[39m50\u001b[39m)\n\u001b[1;32m     21\u001b[0m \u001b[39m#error\u001b[39;00m\n\u001b[0;32m---> 22\u001b[0m \u001b[39mprint\u001b[39m(none \u001b[39mand\u001b[39;00m none)\n",
      "\u001b[0;31mNameError\u001b[0m: name 'none' is not defined"
     ]
    }
   ],
   "source": [
    "print(\"Expressões com valores: \")\n",
    "print(\"0 and 1: \", 0 and 1)\n",
    "print(\"0 and 50: \", 0 and 50)\n",
    "print(\"0 and -10: \", 0 and -10)\n",
    "print(\"0 != 50: \", 0 != 50)\n",
    "\n",
    "print(\"1 and 50: \", 1 and 50)\n",
    "print(\"1 or 50: \", 1 or 50)\n",
    "print(\"1 != 50: \", 1 != 50)\n",
    "\n",
    "print(\"\\n1 and -10: \", 1 and -10)\n",
    "print(\"1 or -10: \", 1 and -10)\n",
    "\n",
    "print(\"\\nnot 0: \", not 0)\n",
    "print(\"not 50: \", not 50)\n",
    "print(\"not -10: \", not -10)\n",
    "\n",
    "print(\"\\n0 or 1: \", 0 or 1)\n",
    "print(\"0 or 50: \", 0 or 50)\n",
    "\n",
    "#error\n",
    "print(none and none)"
   ]
  },
  {
   "attachments": {},
   "cell_type": "markdown",
   "metadata": {},
   "source": [
    "Podemos criar expressõe e armazenar em uma variável. Veja o exemplo:"
   ]
  },
  {
   "cell_type": "code",
   "execution_count": 73,
   "metadata": {},
   "outputs": [
    {
     "name": "stdout",
     "output_type": "stream",
     "text": [
      "Bateu a meta?  True\n",
      "Meta atingida? True\n"
     ]
    }
   ],
   "source": [
    "salario = 5000\n",
    "saldo = 1000\n",
    "despesas = 2460\n",
    "\n",
    "meta = saldo > 0 and salario - despesas >= 0.2 * salario\n",
    "print(\"Bateu a meta? \", meta)\n",
    "\n",
    "# quebrar as expressões para melhor legibilidade\n",
    "\n",
    "saldo_positivo = saldo > 0\n",
    "despesas_controladas = salario - despesas >= 0.2 * salario\n",
    "\n",
    "# mais legível:\n",
    "meta = saldo_positivo and despesas_controladas\n",
    "print(\"Meta atingida?\", meta)"
   ]
  },
  {
   "attachments": {},
   "cell_type": "markdown",
   "metadata": {},
   "source": [
    "## Operadores unários - reforçando\n",
    "* `not` é unário, assim como `-` (menos para inverter algum sinal), além dos +=, -=, etc"
   ]
  },
  {
   "cell_type": "code",
   "execution_count": 77,
   "metadata": {},
   "outputs": [
    {
     "name": "stdout",
     "output_type": "stream",
     "text": [
      "-10\n",
      "True\n",
      "False\n",
      "False\n",
      "True\n",
      "False\n"
     ]
    }
   ],
   "source": [
    "a = 10\n",
    "print(not a)\n",
    "\n",
    "# Não existe\n",
    "\"\"\"\n",
    "\n",
    "a++\n",
    "a--\n",
    "--a\n",
    "++a\n",
    "\n",
    "\"\"\"\n",
    "\n",
    "#Use: \n",
    "a += 1 \n",
    "a-= 1\n",
    "\n",
    "# Trocar o sinal:\n",
    "print(-a)\n",
    "\n"
   ]
  },
  {
   "attachments": {},
   "cell_type": "markdown",
   "metadata": {},
   "source": [
    "## Operadores ternários\n",
    "Operadores com 3 operandos\n",
    "* (op_false, op_true)[condicao] - Note que a opção verdadeira é a que está mais próxima da condição.\n",
    "\n"
   ]
  },
  {
   "cell_type": "code",
   "execution_count": 82,
   "metadata": {},
   "outputs": [
    {
     "name": "stdout",
     "output_type": "stream",
     "text": [
      "Minhas roupas estão molhadas.\n",
      "Minhas roupas estão secas.\n"
     ]
    }
   ],
   "source": [
    "esta_chovendo = True\n",
    "print('Minhas roupas estão ' + ('secas.', 'molhadas.')[esta_chovendo])\n",
    "\n",
    "esta_chovendo = False\n",
    "print('Minhas roupas estão ' + ('secas.', 'molhadas.')[esta_chovendo])"
   ]
  },
  {
   "attachments": {},
   "cell_type": "markdown",
   "metadata": {},
   "source": [
    "## Outros operadores\n",
    "* Operador `in` verifica se um ou mais elementos estão contidos em uma lista\n",
    "* `not in` para não contido\n",
    "\n",
    "* O operador `is` e `ìs not` para valores funcionam como comparadores de conteúdo.\n",
    "* Já para estruturas como listas, funcionam comparando posições de memória, isto é, se a referência ou apontamento na memória são ou não os mesmos."
   ]
  },
  {
   "cell_type": "code",
   "execution_count": 102,
   "metadata": {},
   "outputs": [
    {
     "name": "stdout",
     "output_type": "stream",
     "text": [
      "2 está na lista?  True\n",
      "Ana não está na lista!  False\n",
      "Ana não está na lista!  False\n",
      "True\n",
      "True\n",
      "True\n",
      "False\n",
      "\n",
      "a = b?  True\n",
      "a = c?  False\n",
      "a = d? False\n",
      "\n",
      "b = c?  False\n",
      "Nesse caso, b não é igual a c pois apontam pra outra referência na memória, embora o conteúdo seja igual.\n",
      "lista B:  [1, 30, 3]\n",
      "Lista C:  [1, 500, 3]\n",
      "\n",
      "Como lista_a e lista_b apontam para a mesma posição de memória, ao modificar b, modificamos a e vice versa.\n",
      "lista A:  [1, 30, 3]\n",
      "\n",
      "a != d? True\n"
     ]
    }
   ],
   "source": [
    "# Operador in\n",
    "lista = [1,2,3, 'ana', 'banana', \"José\"]\n",
    "print(\"2 está na lista? \", 2 in lista)\n",
    "print(\"Ana não está na lista! \", \"ana\" not in lista)\n",
    "print(\"Ana não está na lista! \", 'ana' not in lista)\n",
    "\n",
    "# Operador de identidade\n",
    "\n",
    "x = 3\n",
    "y = x\n",
    "z = 3\n",
    "\n",
    "print(x is y)\n",
    "print(x is z)\n",
    "print(y is z)\n",
    "print(y is not z)\n",
    "\n",
    "\n",
    "lista_a = [1,2,3]\n",
    "lista_b = lista_a\n",
    "lista_c = [1, 2, 3]\n",
    "lista_d = [2, 3, 1]\n",
    "\n",
    "print(\"\\na = b? \", lista_a is lista_b)\n",
    "print(\"a = c? \" , lista_a is lista_c)\n",
    "print(\"a = d?\", lista_a is lista_d)\n",
    "\n",
    "\n",
    "print(\"\\nb = c? \",lista_b is lista_c)\n",
    "print(\"Nesse caso, b não é igual a c pois apontam pra outra referência na memória, embora o conteúdo seja igual.\")\n",
    "\n",
    "# trocando o segundo elemento (posição 1) de b e c para validar que não são as mesmas lista (mesmas posições de memória)\n",
    "lista_b[1] = 30\n",
    "lista_c[1] = 500\n",
    "print(\"lista B: \", lista_b)\n",
    "print(\"Lista C: \", lista_c)\n",
    "\n",
    "print(\"\\nComo lista_a e lista_b apontam para a mesma posição de memória, ao modificar b, modificamos a e vice versa.\")\n",
    "print(\"lista A: \", lista_a)\n",
    "\n",
    "print(\"\\na != d?\", lista_a is not lista_d)\n"
   ]
  },
  {
   "attachments": {},
   "cell_type": "markdown",
   "metadata": {},
   "source": [
    "# Builtins\n",
    "Builtins é um módulo que fornece acesso à muitas funcionalidades em python, como funções e constantes.</p>\n",
    "Além disso, guarda as variáveis com escopo global da sua aplicação na variável _\n"
   ]
  },
  {
   "cell_type": "code",
   "execution_count": 111,
   "metadata": {},
   "outputs": [
    {
     "name": "stdout",
     "output_type": "stream",
     "text": [
      "<class 'int'>\n",
      "<class 'str'>\n",
      "<class 'str'>\n",
      "Hey, print é função do builtins\n",
      "Help on built-in function dir in module builtins:\n",
      "\n",
      "dir(...)\n",
      "    dir([object]) -> list of strings\n",
      "    \n",
      "    If called without an argument, return the names in the current scope.\n",
      "    Else, return an alphabetized list of names comprising (some of) the attributes\n",
      "    of the given object, and of attributes reachable from it.\n",
      "    If the object supplies a method named __dir__, it will be used; otherwise\n",
      "    the default dir() logic is used and returns:\n",
      "      for a module object: the module's attributes.\n",
      "      for a class object:  its attributes, and recursively the attributes\n",
      "        of its bases.\n",
      "      for any other object: its attributes, its class's attributes, and\n",
      "        recursively the attributes of its class's base classes.\n",
      "\n",
      "Help on built-in function dir in module builtins:\n",
      "\n",
      "dir(...)\n",
      "    dir([object]) -> list of strings\n",
      "    \n",
      "    If called without an argument, return the names in the current scope.\n",
      "    Else, return an alphabetized list of names comprising (some of) the attributes\n",
      "    of the given object, and of attributes reachable from it.\n",
      "    If the object supplies a method named __dir__, it will be used; otherwise\n",
      "    the default dir() logic is used and returns:\n",
      "      for a module object: the module's attributes.\n",
      "      for a class object:  its attributes, and recursively the attributes\n",
      "        of its bases.\n",
      "      for any other object: its attributes, its class's attributes, and\n",
      "        recursively the attributes of its class's base classes.\n",
      "\n",
      "Help on built-in function dir in module builtins:\n",
      "\n",
      "dir(...)\n",
      "    dir([object]) -> list of strings\n",
      "    \n",
      "    If called without an argument, return the names in the current scope.\n",
      "    Else, return an alphabetized list of names comprising (some of) the attributes\n",
      "    of the given object, and of attributes reachable from it.\n",
      "    If the object supplies a method named __dir__, it will be used; otherwise\n",
      "    the default dir() logic is used and returns:\n",
      "      for a module object: the module's attributes.\n",
      "      for a class object:  its attributes, and recursively the attributes\n",
      "        of its bases.\n",
      "      for any other object: its attributes, its class's attributes, and\n",
      "        recursively the attributes of its class's base classes.\n",
      "\n"
     ]
    }
   ],
   "source": [
    "#type\n",
    "print(type(19))\n",
    "print(type(\"Alô\"))\n",
    "print(__builtins__.type(\"Aloo\"))\n",
    "\n",
    "#print\n",
    "__builtins__.print(\"Hey, print é função do builtins\")\n",
    "\n",
    "#help\n",
    "help(dir)\n",
    "__builtins__.help(dir)\n",
    "__builtins__.help(__builtins__.dir)"
   ]
  },
  {
   "cell_type": "code",
   "execution_count": 120,
   "metadata": {},
   "outputs": [
    {
     "data": {
      "text/plain": [
       "2"
      ]
     },
     "execution_count": 120,
     "metadata": {},
     "output_type": "execute_result"
    }
   ],
   "source": [
    "# A função dir() mostra o que existe no escopo global da aplicação\n",
    "dir()\n",
    "\n",
    "# _ mostra o resultado da última operação executaddas\n",
    "\n",
    "1+1"
   ]
  },
  {
   "cell_type": "code",
   "execution_count": 122,
   "metadata": {},
   "outputs": [
    {
     "data": {
      "text/plain": [
       "5"
      ]
     },
     "execution_count": 122,
     "metadata": {},
     "output_type": "execute_result"
    }
   ],
   "source": [
    "# Depois de executar 1+1\n",
    "# _ + 3 = 5\n",
    "_ + 3"
   ]
  },
  {
   "attachments": {},
   "cell_type": "markdown",
   "metadata": {},
   "source": [
    "# Conversão de tipos\n",
    "Basta colocar o tipo que se deseja e a variável que será convertida. Exemplo:\n",
    "int()\n",
    "float()\n",
    "str()"
   ]
  },
  {
   "cell_type": "code",
   "execution_count": 126,
   "metadata": {},
   "outputs": [
    {
     "name": "stdout",
     "output_type": "stream",
     "text": [
      "<class 'int'>\n",
      "<class 'str'>\n",
      "5\n",
      "23\n",
      "3.45\n"
     ]
    },
    {
     "ename": "ValueError",
     "evalue": "invalid literal for int() with base 10: '3.45'",
     "output_type": "error",
     "traceback": [
      "\u001b[0;31m---------------------------------------------------------------------------\u001b[0m",
      "\u001b[0;31mValueError\u001b[0m                                Traceback (most recent call last)",
      "Cell \u001b[0;32mIn[126], line 11\u001b[0m\n\u001b[1;32m      8\u001b[0m \u001b[39mprint\u001b[39m(\u001b[39mstr\u001b[39m(a)\u001b[39m+\u001b[39mb)\n\u001b[1;32m     10\u001b[0m \u001b[39mprint\u001b[39m(\u001b[39mfloat\u001b[39m(c))\n\u001b[0;32m---> 11\u001b[0m \u001b[39mprint\u001b[39m(\u001b[39mint\u001b[39;49m(c)) \u001b[39m#erro\u001b[39;00m\n",
      "\u001b[0;31mValueError\u001b[0m: invalid literal for int() with base 10: '3.45'"
     ]
    }
   ],
   "source": [
    "a = 2\n",
    "b = '3'\n",
    "c = '3.45'\n",
    "print(type(a))\n",
    "print(type(b))\n",
    "\n",
    "print(a + int(b))\n",
    "print(str(a)+b)\n",
    "\n",
    "print(float(c))\n",
    "\n",
    "#erro pois aqui python não faz de forma automática o cast de string para int. Use float()\n",
    "print(int(c)) \n"
   ]
  },
  {
   "attachments": {},
   "cell_type": "markdown",
   "metadata": {},
   "source": [
    "# Coerção automática\n",
    "* divisão em python retorna sempre float, isto é, números decimais, mesmo que o número seja .0"
   ]
  },
  {
   "cell_type": "code",
   "execution_count": 132,
   "metadata": {},
   "outputs": [
    {
     "name": "stdout",
     "output_type": "stream",
     "text": [
      "3.0\n",
      "<class 'float'>\n",
      "<class 'int'>\n",
      "\n",
      "\n",
      "3\n",
      "2\n"
     ]
    }
   ],
   "source": [
    "# O resultado é float pois existe um float na operação.\n",
    "print(10//3.3)\n",
    "print(type(10//3.3))\n",
    "print(type(10//3))\n",
    "\n",
    "#Converte true para 1\n",
    "print(\"\\n\")\n",
    "print(2+True)\n",
    "print(2+False)"
   ]
  }
 ],
 "metadata": {
  "kernelspec": {
   "display_name": "Python 3",
   "language": "python",
   "name": "python3"
  },
  "language_info": {
   "codemirror_mode": {
    "name": "ipython",
    "version": 3
   },
   "file_extension": ".py",
   "mimetype": "text/x-python",
   "name": "python",
   "nbconvert_exporter": "python",
   "pygments_lexer": "ipython3",
   "version": "3.10.6"
  },
  "orig_nbformat": 4,
  "vscode": {
   "interpreter": {
    "hash": "916dbcbb3f70747c44a77c7bcd40155683ae19c65e1c03b4aa3499c5328201f1"
   }
  }
 },
 "nbformat": 4,
 "nbformat_minor": 2
}
