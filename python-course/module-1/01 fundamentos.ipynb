{
 "cells": [
  {
   "attachments": {},
   "cell_type": "markdown",
   "metadata": {},
   "source": [
    "# Comentários\n",
    "\n",
    "Podemos fazer comentários de uma única linha ou de um bloco todo.\n",
    "\n",
    "Normalmente, o comentário de uma linha é colocado acima do código para melhor legibilidade."
   ]
  },
  {
   "cell_type": "code",
   "execution_count": null,
   "metadata": {},
   "outputs": [],
   "source": [
    "# comentário inline\n",
    "\n",
    "\n",
    "# comentário 1\n",
    "# comentário 2\n",
    "# comentário 3\n",
    "\n",
    "\"\"\"\n",
    "multiplos \n",
    "comentarios\n",
    "dentro\n",
    "desde bloco\n",
    "\"\"\""
   ]
  },
  {
   "attachments": {},
   "cell_type": "markdown",
   "metadata": {},
   "source": [
    "# Tipos básicos\n",
    "\n",
    "* Booleanos: True ou False - verdadeiro ou falso. Obrigatório ser em letra maiúscula.\n",
    "* Interios: Número inteiros\n",
    "* Float: Números decimais. É utilizado o `.` para separar a parte inteira da decimal.\n",
    "* String: Textos. Podem ser entre aspas simples ou duplas.\n",
    "\n",
    "Obs.: `None` representa a ausência de valor. É similar ao nulo de algumas linguagens."
   ]
  },
  {
   "cell_type": "code",
   "execution_count": 9,
   "metadata": {},
   "outputs": [
    {
     "name": "stdout",
     "output_type": "stream",
     "text": [
      "<class 'bool'> \n",
      " <class 'str'> \n",
      " <class 'str'> \n",
      " <class 'int'> \n",
      " <class 'str'> \n",
      " <class 'float'> \n",
      " <class 'str'>\n"
     ]
    }
   ],
   "source": [
    "print(\n",
    "type(True),\"\\n\",\n",
    "type(\"a\"),\"\\n\",\n",
    "type('a'),\"\\n\",\n",
    "type(1),\"\\n\",\n",
    "type(\"1\"),\"\\n\",\n",
    "type(1.3),\"\\n\",\n",
    "type(\"true\")\n",
    ")"
   ]
  },
  {
   "cell_type": "code",
   "execution_count": 3,
   "metadata": {},
   "outputs": [
    {
     "name": "stdout",
     "output_type": "stream",
     "text": [
      "Olá! Olá! Olá! \n",
      "9\n"
     ]
    }
   ],
   "source": [
    "print(\"Olá! \" * 3)\n",
    "print(3*3)"
   ]
  },
  {
   "attachments": {},
   "cell_type": "markdown",
   "metadata": {},
   "source": [
    "# Operadores\n",
    "Operadores aritméticos, relacionais, lógicos e de atribuição"
   ]
  }
 ],
 "metadata": {
  "kernelspec": {
   "display_name": "Python 3",
   "language": "python",
   "name": "python3"
  },
  "language_info": {
   "codemirror_mode": {
    "name": "ipython",
    "version": 3
   },
   "file_extension": ".py",
   "mimetype": "text/x-python",
   "name": "python",
   "nbconvert_exporter": "python",
   "pygments_lexer": "ipython3",
   "version": "3.10.6"
  },
  "orig_nbformat": 4,
  "vscode": {
   "interpreter": {
    "hash": "916dbcbb3f70747c44a77c7bcd40155683ae19c65e1c03b4aa3499c5328201f1"
   }
  }
 },
 "nbformat": 4,
 "nbformat_minor": 2
}
